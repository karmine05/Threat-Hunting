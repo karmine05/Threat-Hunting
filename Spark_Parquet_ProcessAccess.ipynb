{
 "cells": [
  {
   "cell_type": "code",
   "execution_count": null,
   "id": "43e76cb4-62a5-4c11-9cb0-2e6ced7b4854",
   "metadata": {},
   "outputs": [],
   "source": [
    "from pyspark.sql import SparkSession\n",
    "from pyspark.sql.types import *\n",
    "\n",
    "from datetime import datetime, timedelta\n",
    "import warnings\n",
    "\n",
    "from minio_extractor import fetch_logs, RequestConfig\n",
    "\n",
    "# Disable warnings\n",
    "warnings.filterwarnings('ignore')\n",
    "warnings.simplefilter('ignore')\n",
    "\n",
    "#For widescreen view\n",
    "from IPython.core.display import display, HTML\n",
    "display(HTML(\"<style>.container { width:80% !important; }</style>\")) \n",
    "\n",
    "spark = SparkSession \\\n",
    "    .builder \\\n",
    "    .appName(\"Spark_EID8_10\") \\\n",
    "    .config(\"spark.sql.caseSensitive\",\"True\") \\\n",
    "    .config('spark.sql.execution.arrow.pyspark.enabled', True) \\\n",
    "    .config('spark.sql.session.timeZone', 'EST') \\\n",
    "    .config('spark.driver.memory','16G') \\\n",
    "    .config('spark.ui.showConsoleProgress', True) \\\n",
    "    .config('spark.sql.repl.eagerEval.enabled', True) \\\n",
    "    .getOrCreate()\n",
    "sc = spark.sparkContext\n",
    "sc.setLogLevel(\"ERROR\")\n",
    "\n",
    "### reading from a parquet object\n",
    "park = spark.read.parquet(\"edr_all_raw.parquet\")"
   ]
  },
  {
   "cell_type": "code",
   "execution_count": null,
   "id": "8bac09d0-b870-4dbf-9c8b-12b7d02772aa",
   "metadata": {},
   "outputs": [],
   "source": [
    "park.printSchema()\n",
    "park.show(n = 1, vertical = True)\n",
    "park.createOrReplaceTempView('sparktable')"
   ]
  },
  {
   "cell_type": "code",
   "execution_count": null,
   "id": "739f30cb-4857-438b-be25-b5b926c16df4",
   "metadata": {},
   "outputs": [],
   "source": [
    "EID8 = spark.sql(\n",
    "'''\n",
    "SELECT  UtcTime, computer_name, SourceProcessGuid, SourceImage, TargetProcessGuid, TargetImage, StartAddress, StartFunction, StartModule, SourceUser\n",
    "FROM sparktable b\n",
    "WHERE b.event_id = 8 AND source_name = \"Microsoft-Windows-Sysmon\"\n",
    "'''\n",
    ").show(10,False)"
   ]
  },
  {
   "cell_type": "code",
   "execution_count": null,
   "id": "ef07fa7b-fcfc-49dd-b827-89f9fb313d92",
   "metadata": {},
   "outputs": [],
   "source": [
    "EID10 = spark.sql(\n",
    "'''\n",
    "SELECT  UtcTime, computer_name, SourceProcessGUID, SourceImage, TargetProcessGUID, TargetImage, GrantedAccess, SourceUser\n",
    "FROM sparktable a\n",
    "WHERE a.event_id = 10 AND source_name = \"Microsoft-Windows-Sysmon\"\n",
    "AND (a.GrantedAccess) == '0x1400'\n",
    "'''\n",
    ").show(10,False)"
   ]
  },
  {
   "cell_type": "code",
   "execution_count": null,
   "id": "620cda9c-1464-4df9-82ec-1c34cc739662",
   "metadata": {},
   "outputs": [],
   "source": [
    "ReflectiveDLL_ProcessInjection = spark.sql(\n",
    "'''\n",
    "SELECT b.UtcTime, b.computer_name,b.SourceImage, b.TargetImage, b.StartAddress, b.StartFunction, b.StartModule, b.SourceUser, a.SourceProcessGUID, a.TargetProcessGUID, a.GrantedAccess\n",
    "FROM sparktable b\n",
    "JOIN sparktable a\n",
    "ON a.computer_name = b.computer_name\n",
    "AND a.event_id = 10 AND a.source_name = \"Microsoft-Windows-Sysmon\"\n",
    "AND ((a.GrantedAccess) == '0x1f3fff' OR (a.GrantedAccess) == '0x147a')\n",
    "WHERE b.event_id = 8 AND b.source_name = \"Microsoft-Windows-Sysmon\"\n",
    "AND NOT\n",
    "    (\n",
    "        lower(b.SourceImage) LIKE '%dwm.exe'\n",
    "        OR lower(b.SourceImage) LIKE '%csrss.exe'\n",
    "        OR b.SourceUser == \"Window Manager\\DWM-2\"\n",
    "    )\n",
    "\n",
    "'''\n",
    ").show(10,False)"
   ]
  },
  {
   "cell_type": "code",
   "execution_count": null,
   "id": "15df8d34-5d8a-4a26-8ec7-bb1094cc7200",
   "metadata": {},
   "outputs": [],
   "source": []
  }
 ],
 "metadata": {
  "kernelspec": {
   "display_name": "Python 3 (ipykernel)",
   "language": "python",
   "name": "python3"
  },
  "language_info": {
   "codemirror_mode": {
    "name": "ipython",
    "version": 3
   },
   "file_extension": ".py",
   "mimetype": "text/x-python",
   "name": "python",
   "nbconvert_exporter": "python",
   "pygments_lexer": "ipython3",
   "version": "3.10.5"
  }
 },
 "nbformat": 4,
 "nbformat_minor": 5
}
